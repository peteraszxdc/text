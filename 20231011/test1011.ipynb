{
 "cells": [
  {
   "cell_type": "code",
   "execution_count": 24,
   "metadata": {},
   "outputs": [
    {
     "name": "stdout",
     "output_type": "stream",
     "text": [
      "True\n"
     ]
    }
   ],
   "source": [
    "try:\n",
    "    file = open('students.csv',encoding='utf-8',mode='r',newline='')\n",
    "    file.close() #實體方法\n",
    "    print(file.closed) #實體attribute\n",
    "except:\n",
    "    print(\"讀取錯誤\")"
   ]
  },
  {
   "cell_type": "code",
   "execution_count": null,
   "metadata": {},
   "outputs": [],
   "source": [
    "try:\n",
    "    file = open('students.csv',encoding='utf-8',mode='r',newline='')    \n",
    "    print(file.readline())\n",
    "    print(file.readline())\n",
    "    print(file.readline())\n",
    "    file.close() #實體方法\n",
    "    print(file.closed) #實體attribute\n",
    "except:\n",
    "    print(\"讀取錯誤\")"
   ]
  },
  {
   "cell_type": "code",
   "execution_count": 26,
   "metadata": {},
   "outputs": [
    {
     "name": "stdout",
     "output_type": "stream",
     "text": [
      "<class '_csv.reader'>\n",
      "['姓名', '國文', '英文', '數學', '地理', '歷史']\n",
      "['傻', '50', '30', '60', '40', '35']\n",
      "['笨', '20', '30', '12', '32', '43']\n",
      "True\n"
     ]
    }
   ],
   "source": [
    "import csv\n",
    "\n",
    "try:\n",
    "    file = open('students.csv',encoding='utf-8',mode='r',newline='')    \n",
    "    csv_reader = csv.reader(file)\n",
    "    print(type(csv_reader))\n",
    "    for row in csv_reader:\n",
    "        print(row)\n",
    "    file.close() #實體方法\n",
    "    print(file.closed) #實體attribute\n",
    "except:\n",
    "    print(\"讀取錯誤\")"
   ]
  },
  {
   "cell_type": "code",
   "execution_count": 27,
   "metadata": {},
   "outputs": [
    {
     "name": "stdout",
     "output_type": "stream",
     "text": [
      "True\n"
     ]
    },
    {
     "data": {
      "text/plain": [
       "[['姓名', '國文', '英文', '數學', '地理', '歷史'],\n",
       " ['傻', '50', '30', '60', '40', '35'],\n",
       " ['笨', '20', '30', '12', '32', '43']]"
      ]
     },
     "execution_count": 27,
     "metadata": {},
     "output_type": "execute_result"
    }
   ],
   "source": [
    "import csv\n",
    "\n",
    "try:\n",
    "    file = open('students.csv',encoding='utf-8',mode='r',newline='')    \n",
    "    csv_reader = csv.reader(file)\n",
    "    csv_list = list(csv_reader)\n",
    "    file.close() #實體方法\n",
    "    print(file.closed) #實體attribute\n",
    "except:\n",
    "    print(\"讀取錯誤\")\n",
    "\n",
    "csv_list"
   ]
  }
 ],
 "metadata": {
  "kernelspec": {
   "display_name": ".venv",
   "language": "python",
   "name": "python3"
  },
  "language_info": {
   "codemirror_mode": {
    "name": "ipython",
    "version": 3
   },
   "file_extension": ".py",
   "mimetype": "text/x-python",
   "name": "python",
   "nbconvert_exporter": "python",
   "pygments_lexer": "ipython3",
   "version": "3.10.8"
  }
 },
 "nbformat": 4,
 "nbformat_minor": 2
}
