{
 "cells": [
  {
   "cell_type": "code",
   "execution_count": 2,
   "metadata": {},
   "outputs": [
    {
     "name": "stdout",
     "output_type": "stream",
     "text": [
      "===============猜數字遊戲=================:\n",
      "\n",
      "再小一點\n",
      "您已經猜了1次\n",
      "賓果!猜對了, 答案是:25\n",
      "總共猜了2次\n",
      "遊戲結束!\n"
     ]
    }
   ],
   "source": [
    "import random\n",
    "min = 1\n",
    "max = 100\n",
    "count = 0\n",
    "target = random.randint(min, max)\n",
    "print(\"===============猜數字遊戲=================:\\n\")\n",
    "while(True):\n",
    "    count += 1\n",
    "    keyin = int(input(f\"猜數字範圍{min}~{max}\"))\n",
    "    if (keyin >= 1 and keyin <= max):\n",
    "        if(keyin == target):\n",
    "            print(f\"賓果!猜對了, 答案是:{target}\")\n",
    "            print(f\"總共猜了{count}次\")\n",
    "            break\n",
    "        elif (keyin > target):\n",
    "            print(\"再小一點\")\n",
    "            max = keyin - 1\n",
    "            \n",
    "        elif (keyin < target):\n",
    "            print(\"再大一點\")\n",
    "            min = keyin + 1\n",
    "            \n",
    "        print(f\"您已經猜了{count}次\")\n",
    "    else:\n",
    "        print(\"請輸入提示範圍內的數字\")\n",
    "\n",
    "print(\"遊戲結束!\")"
   ]
  },
  {
   "cell_type": "code",
   "execution_count": 6,
   "metadata": {},
   "outputs": [
    {
     "name": "stdout",
     "output_type": "stream",
     "text": [
      "Hello!\n"
     ]
    }
   ],
   "source": [
    "def sayHello():\n",
    "    print(\"Hello!\")\n",
    "\n",
    "sayHello()"
   ]
  },
  {
   "cell_type": "code",
   "execution_count": 8,
   "metadata": {},
   "outputs": [
    {
     "name": "stdout",
     "output_type": "stream",
     "text": [
      "5\n",
      "===============猜數字遊戲=================:\n",
      "\n",
      "再小一點\n",
      "您已經猜了1次\n",
      "再大一點\n",
      "您已經猜了2次\n",
      "請輸入提示範圍內的數字\n",
      "賓果!猜對了, 答案是:5\n",
      "總共猜了4次\n",
      "還要繼續嗎?(y,n)遊戲結束\n"
     ]
    }
   ],
   "source": [
    "import random\n",
    "import pyinputplus as pyip\n",
    "\n",
    "while True:\n",
    "    min = 1\n",
    "    max = 100\n",
    "    count = 0\n",
    "    target = random.randint(min, max)\n",
    "    print(target)\n",
    "    print(\"===============猜數字遊戲=================:\\n\")\n",
    "    while(True):\n",
    "        count += 1\n",
    "        keyin = int(input(f\"猜數字範圍{min}~{max}\"))\n",
    "        if (1 <= keyin <= max):\n",
    "            if(keyin == target):\n",
    "                print(f\"賓果!猜對了, 答案是:{target}\")\n",
    "                print(f\"總共猜了{count}次\")\n",
    "                break\n",
    "            elif (keyin > target):\n",
    "                print(\"再小一點\")\n",
    "                max = keyin - 1\n",
    "                \n",
    "            elif (keyin < target):\n",
    "                print(\"再大一點\")\n",
    "                min = keyin + 1\n",
    "                \n",
    "            print(f\"您已經猜了{count}次\")\n",
    "        else:\n",
    "            print(\"請輸入提示範圍內的數字\")\n",
    "    answer = pyip.inputYesNo(prompt=\"還要繼續嗎?(y,n)\",yesVal='y',noVal='n')\n",
    "    if not (answer == 'y'):\n",
    "        break\n",
    "print(\"遊戲結束\")\n",
    "    "
   ]
  },
  {
   "cell_type": "code",
   "execution_count": null,
   "metadata": {},
   "outputs": [],
   "source": [
    "import random\n",
    "import pyinputplus as pyip\n",
    "\n",
    "while True:\n",
    "    min = 1\n",
    "    max = 100\n",
    "    count = 0\n",
    "    target = random.randint(min, max)\n",
    "    print(target)\n",
    "    print(\"===============猜數字遊戲=================:\\n\")\n",
    "    while(True):\n",
    "        count += 1\n",
    "        keyin = int(input(f\"猜數字範圍{min}~{max}\"))\n",
    "        if (1 <= keyin <= max):\n",
    "            if(keyin == target):\n",
    "                print(f\"賓果!猜對了, 答案是:{target}\")\n",
    "                print(f\"總共猜了{count}次\")\n",
    "                break\n",
    "            elif (keyin > target):\n",
    "                print(\"再小一點\")\n",
    "                max = keyin - 1\n",
    "                \n",
    "            elif (keyin < target):\n",
    "                print(\"再大一點\")\n",
    "                min = keyin + 1\n",
    "                \n",
    "            print(f\"您已經猜了{count}次\")\n",
    "        else:\n",
    "            print(\"請輸入提示範圍內的數字\")\n",
    "    answer = pyip.inputYesNo(prompt=\"還要繼續嗎?(y,n)\",yesVal='y',noVal='n')\n",
    "    if not (answer == 'y'):\n",
    "        break\n",
    "print(\"遊戲結束\")"
   ]
  },
  {
   "cell_type": "code",
   "execution_count": 9,
   "metadata": {},
   "outputs": [
    {
     "data": {
      "text/plain": [
       "50"
      ]
     },
     "execution_count": 9,
     "metadata": {},
     "output_type": "execute_result"
    }
   ],
   "source": [
    "def rect_area(width:int, height:int)->int:\n",
    "    return width*height\n",
    "area=rect_area(10,5)\n",
    "area\n"
   ]
  },
  {
   "cell_type": "code",
   "execution_count": null,
   "metadata": {},
   "outputs": [],
   "source": [
    "def menu(wine:str, entree:str, dessert:str) -> None:\n",
    "    print(f\"餐前酒:{wine}\")\n",
    "    print(f\"主餐:{entree}\")\n",
    "    print(f\"甜點:{dessert}\")"
   ]
  },
  {
   "cell_type": "code",
   "execution_count": null,
   "metadata": {},
   "outputs": [],
   "source": [
    "#引數位置呼叫,要依照參數的順序\n",
    "menu(\"白酒\",\"牛排\",\"蛋糕\")"
   ]
  },
  {
   "cell_type": "code",
   "execution_count": null,
   "metadata": {},
   "outputs": [],
   "source": [
    "#引數名稱的呼叫\n",
    "menu(wine=\"白酒\",entree=\"牛排\",dessert=\"蛋糕\")"
   ]
  },
  {
   "cell_type": "code",
   "execution_count": null,
   "metadata": {},
   "outputs": [],
   "source": [
    "#引數名稱的呼叫,可以不依照順序\n",
    "menu(wine=\"白酒\",dessert=\"蛋糕\",entree=\"牛排\")"
   ]
  },
  {
   "cell_type": "code",
   "execution_count": null,
   "metadata": {},
   "outputs": [],
   "source": [
    "#引數位置和引數名稱的混合呼叫\n",
    "#前面一定用引數位置,後面使用引數名稱呼叫\n",
    "#使用引數名稱,後面的引數全部要用引數名稱\n",
    "menu(\"白酒\",dessert=\"蛋糕\",entree=\"牛排\")"
   ]
  },
  {
   "cell_type": "code",
   "execution_count": 16,
   "metadata": {},
   "outputs": [
    {
     "name": "stdout",
     "output_type": "stream",
     "text": [
      "主菜:滷雞腿\n",
      "配菜1:豆芽菜\n",
      "配菜2:三色豆\n",
      "配菜3:電話線\n"
     ]
    }
   ],
   "source": [
    "def order(primary:str, second1:str=\"豆芽菜\", second2:str=\"三色豆\", second3:str=\"電話線\") -> None:\n",
    "    print(f\"主菜:{primary}\")\n",
    "    print(f\"配菜1:{second1}\")\n",
    "    print(f\"配菜2:{second2}\")\n",
    "    print(f\"配菜3:{second3}\")\n",
    "\n",
    "order(\"滷雞腿\")"
   ]
  },
  {
   "cell_type": "code",
   "execution_count": null,
   "metadata": {},
   "outputs": [],
   "source": [
    "order(\"滷雞腿\",second3=\"青江菜\")"
   ]
  },
  {
   "cell_type": "code",
   "execution_count": 21,
   "metadata": {},
   "outputs": [
    {
     "name": "stdout",
     "output_type": "stream",
     "text": [
      "('嫩烤蔬菜雞肉捲', '星島海南雞', '薑汁燒肉')\n"
     ]
    }
   ],
   "source": [
    "def buffet_101(*food):\n",
    "    print(food)\n",
    "\n",
    "buffet_101(\"嫩烤蔬菜雞肉捲\",\"星島海南雞\",\"薑汁燒肉\")"
   ]
  },
  {
   "cell_type": "code",
   "execution_count": 19,
   "metadata": {},
   "outputs": [],
   "source": [
    "def buffet_bella(**food):\n",
    "    print(food)\n",
    "\n",
    "buffet_bella(first=\"大阪燒\",second=\"章魚燒\",third=\"鐵火丼\",forth=\"鹽烤香魚\")"
   ]
  },
  {
   "cell_type": "code",
   "execution_count": 20,
   "metadata": {},
   "outputs": [
    {
     "name": "stdout",
     "output_type": "stream",
     "text": [
      "a,b,1,3,5,9,4.5\n"
     ]
    }
   ],
   "source": [
    "print(\"a\",\"b\",1,3,5,9,4.5,sep=\",\")"
   ]
  },
  {
   "cell_type": "code",
   "execution_count": 16,
   "metadata": {},
   "outputs": [
    {
     "name": "stdout",
     "output_type": "stream",
     "text": [
      "7\n",
      "2 5 6 6\n"
     ]
    }
   ],
   "source": [
    "import random\n",
    "import pyinputplus as pyip\n",
    "a = random.randint(1, 6)\n",
    "b = random.randint(1, 6)\n",
    "c = random.randint(1, 6)\n",
    "d = random.randint(1, 6)\n",
    "if a==b or a==c or a==d or b==c or b==d or c==d:\n",
    "    ans=a+b\n",
    "    print(ans)\n",
    "\n",
    "else:\n",
    "    print(\"沒點\")\n",
    "\n",
    "\n",
    "\n",
    "print(a,b,c,d)\n",
    "\n"
   ]
  },
  {
   "cell_type": "code",
   "execution_count": 19,
   "metadata": {},
   "outputs": [
    {
     "name": "stdout",
     "output_type": "stream",
     "text": [
      "5 5 6 6\n",
      "12 點\n"
     ]
    }
   ],
   "source": [
    "#超級陽春\n",
    "import random\n",
    "a = random.randint(1, 6)\n",
    "b = random.randint(1, 6)\n",
    "c = random.randint(1, 6)\n",
    "d = random.randint(1, 6)\n",
    "print(a,b,c,d)\n",
    "if a==b==c==d:\n",
    "    print(\"恭喜您喜提豹子!!\")\n",
    "elif a==b and c==d or a==c and b==d or a==d and b==c:\n",
    "    ans=max(a,b,c,d)+max(a,b,c,d)\n",
    "    print(ans,\"點\")\n",
    "elif a==b==c or a==c==d or b==c==d:\n",
    "    print(\"QQ 3個一樣還是沒點zz\")    \n",
    "elif a==b:\n",
    "    ans=c+d\n",
    "    print(ans,\"點\")         \n",
    "elif a==c:\n",
    "    ans=b+d \n",
    "    print(ans,\"點\")           \n",
    "elif a==d:\n",
    "    ans=b+c\n",
    "    print(ans,\"點\")       \n",
    "elif b==c:\n",
    "    ans=a+d\n",
    "    print(ans,\"點\")\n",
    "elif b==d:\n",
    "    ans=a+c\n",
    "    print(ans,\"點\")        \n",
    "elif c==d:\n",
    "    ans=a+b\n",
    "    print(ans,\"點\")         \n",
    "else:\n",
    "    print(\"沒點\")\n",
    "            \n",
    "\n",
    "\n",
    "\n"
   ]
  },
  {
   "cell_type": "code",
   "execution_count": 25,
   "metadata": {},
   "outputs": [
    {
     "name": "stdout",
     "output_type": "stream",
     "text": [
      "4 1 4 1\n",
      "8 點\n"
     ]
    }
   ],
   "source": [
    "#稍微陽春\n",
    "import random\n",
    "\n",
    "a = random.randint(1, 6)\n",
    "b = random.randint(1, 6)\n",
    "c = random.randint(1, 6)\n",
    "d = random.randint(1, 6)\n",
    "print(a,b,c,d)\n",
    "same_numbers = None\n",
    "for num in (a,b,c,d):\n",
    "    if (a,b,c,d).count(num) == 2:\n",
    "        same_numbers = num\n",
    "        break\n",
    "\n",
    "if a==b==c==d:\n",
    "    print(\"恭喜您喜提豹子!!\")\n",
    "elif a==b and c==d or a==c and b==d or a==d and b==c:\n",
    "    ans=max(a,b,c,d)+max(a,b,c,d)\n",
    "    print(ans,\"點\")\n",
    "elif a==b==c or a==c==d or b==c==d:\n",
    "    print(\"QQ 3個一樣還是沒點zz\")  \n",
    "elif same_numbers is not None:\n",
    "    other=[num for num in (a,b,c,d) if num != same_numbers]\n",
    "    sum_others = sum(other)\n",
    "    print(sum_others,\"點\")\n",
    "else:\n",
    "    print(\"沒點\")\n",
    "            \n"
   ]
  },
  {
   "cell_type": "code",
   "execution_count": 3,
   "metadata": {},
   "outputs": [
    {
     "name": "stdout",
     "output_type": "stream",
     "text": [
      "(6, 5, 5, 6)\n",
      "10點\n",
      "(6, 5, 5, 6)\n",
      "10點\n",
      "(6, 5, 5, 6)\n",
      "10點\n",
      "(6, 5, 5, 6)\n",
      "10點\n",
      "(6, 5, 5, 6)\n",
      "10點\n",
      "(6, 5, 5, 6)\n",
      "10點\n",
      "(6, 5, 5, 6)\n",
      "10點\n",
      "(6, 5, 5, 6)\n",
      "10點\n",
      "(6, 5, 5, 6)\n",
      "10點\n",
      "(6, 5, 5, 6)\n",
      "10點\n"
     ]
    }
   ],
   "source": [
    "import random\n",
    "for i in range(10):\n",
    "    #numbers =[random.randint(1, 6) for _ in range(4)]\n",
    "    numbers =(6,5,5,6)\n",
    "    double=triple=None\n",
    "    \n",
    "    #numbers=sorted(number,reverse=True)\n",
    "    print(numbers)\n",
    "    for num in numbers:\n",
    "        if numbers.count(num) == 2:\n",
    "            double = num\n",
    "        elif numbers.count(num) == 3:\n",
    "            triple = num\n",
    "    if triple is not None:\n",
    "        other=[num for num in numbers if num!=triple]\n",
    "        sumother=sum(other)\n",
    "        print(\"歐歐3個一樣沒點~\")\n",
    "    elif double is not None:\n",
    "        other=[num for num in numbers if num!=double]\n",
    "        sumother=sum(other)\n",
    "        print(f\"{sumother}點\")\n",
    "    else:\n",
    "        print(\"沒點\")"
   ]
  }
 ],
 "metadata": {
  "kernelspec": {
   "display_name": "Python 3",
   "language": "python",
   "name": "python3"
  },
  "language_info": {
   "codemirror_mode": {
    "name": "ipython",
    "version": 3
   },
   "file_extension": ".py",
   "mimetype": "text/x-python",
   "name": "python",
   "nbconvert_exporter": "python",
   "pygments_lexer": "ipython3",
   "version": "3.10.8"
  },
  "orig_nbformat": 4
 },
 "nbformat": 4,
 "nbformat_minor": 2
}
