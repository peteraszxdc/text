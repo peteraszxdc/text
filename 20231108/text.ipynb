{
 "cells": [
  {
   "cell_type": "code",
   "execution_count": 18,
   "metadata": {},
   "outputs": [
    {
     "name": "stdout",
     "output_type": "stream",
     "text": [
      "成功拉\n",
      "<connection object at 0x000002D201D94590; dsn: 'user=peteraszxdc password=xxx dbname=database_d5mb host=dpg-cl5i2cho91lc7386i1ig-a.singapore-postgres.render.com port=5432', closed: 0>\n"
     ]
    }
   ],
   "source": [
    "import psycopg2\n",
    "import password\n",
    "\n",
    "try:\n",
    "    conn = psycopg2.connect(\n",
    "        database=password.DATABASE,\n",
    "        user=password.USER,\n",
    "        password=password.PASSWORD,\n",
    "        host=password.HOST,\n",
    "        port=password.PORT\n",
    "    )\n",
    "except psycopg2.Error as e:\n",
    "    print(\"error\")\n",
    "    print(e)\n",
    "else:\n",
    "    print(\"成功拉\")\n",
    "    print(conn)"
   ]
  },
  {
   "cell_type": "code",
   "execution_count": 16,
   "metadata": {},
   "outputs": [
    {
     "name": "stdout",
     "output_type": "stream",
     "text": [
      "[(1, 'YouBike2.0_一壽橋', '文山區', '2023-11-08 10:43:16', '樟新街64號前方', 16, 1, 15)]\n"
     ]
    }
   ],
   "source": [
    "with conn.cursor() as cursor:\n",
    "    cursor.execute(\"select * from 台北市youbike\")\n",
    "    records = cursor.fetchall()\n",
    "\n",
    "print(records)"
   ]
  },
  {
   "cell_type": "code",
   "execution_count": 21,
   "metadata": {},
   "outputs": [
    {
     "name": "stdout",
     "output_type": "stream",
     "text": [
      "[(1, 'YouBike2.0_一壽橋', '文山區', '2023-11-08 10:43:16', '樟新街64號前方', 16, 1, 15), (2, 'YouBike2.0_一壽橋', '文山區', '2023-11-08 10:43:18', '樟新街64號前方', 16, 1, 15), (3, 'YouBike2.0_一壽橋', '文山區', '2023-11-08 10:43:19', '樟新街64號前方', 16, 1, 15)]\n"
     ]
    }
   ],
   "source": [
    "sql = \"\"\"\n",
    "insert into 台北市youbike(站點名稱,行政區,更新時間,地址,總車輛數,可借,可還)\n",
    "values('YouBike2.0_一壽橋','文山區','2023-11-i 10:43:19','樟新街64號前方',16,1,15)\n",
    "\"\"\"\n",
    "\n",
    "with conn.cursor() as cursor:\n",
    "    cursor.execute(sql)\n",
    "    conn.commit()\n",
    "sql1 = \"\"\"\n",
    "select *\n",
    "from 台北市youbike\n",
    "where 站點名稱 = 'YouBike2.0_一壽橋'\n",
    "\"\"\"\n",
    "with conn.cursor() as cursor:\n",
    "    cursor.execute(\"select * from 台北市youbike\")\n",
    "    records = cursor.fetchall()\n",
    "\n",
    "print(records)"
   ]
  },
  {
   "cell_type": "code",
   "execution_count": 20,
   "metadata": {},
   "outputs": [
    {
     "ename": "TypeError",
     "evalue": "'int' object is not iterable",
     "output_type": "error",
     "traceback": [
      "\u001b[1;31m---------------------------------------------------------------------------\u001b[0m",
      "\u001b[1;31mTypeError\u001b[0m                                 Traceback (most recent call last)",
      "\u001b[1;32mc:\\Users\\User\\Desktop\\教學資料\\github檔案\\text\\20231108\\text.ipynb 儲存格 4\u001b[0m line \u001b[0;36m1\n\u001b[1;32m----> <a href='vscode-notebook-cell:/c%3A/Users/User/Desktop/%E6%95%99%E5%AD%B8%E8%B3%87%E6%96%99/github%E6%AA%94%E6%A1%88/text/20231108/text.ipynb#W3sZmlsZQ%3D%3D?line=0'>1</a>\u001b[0m \u001b[39mfor\u001b[39;00m i \u001b[39min\u001b[39;00m \u001b[39m1500\u001b[39m:\n\u001b[0;32m      <a href='vscode-notebook-cell:/c%3A/Users/User/Desktop/%E6%95%99%E5%AD%B8%E8%B3%87%E6%96%99/github%E6%AA%94%E6%A1%88/text/20231108/text.ipynb#W3sZmlsZQ%3D%3D?line=1'>2</a>\u001b[0m     \u001b[39mif\u001b[39;00m i \u001b[39m!=\u001b[39m \u001b[39m0\u001b[39m:\n\u001b[0;32m      <a href='vscode-notebook-cell:/c%3A/Users/User/Desktop/%E6%95%99%E5%AD%B8%E8%B3%87%E6%96%99/github%E6%AA%94%E6%A1%88/text/20231108/text.ipynb#W3sZmlsZQ%3D%3D?line=2'>3</a>\u001b[0m         \u001b[39mprint\u001b[39m(i)\n",
      "\u001b[1;31mTypeError\u001b[0m: 'int' object is not iterable"
     ]
    }
   ],
   "source": [
    "for i in range(1, 1501):\n",
    "    if i != 0:\n",
    "        print(i)"
   ]
  }
 ],
 "metadata": {
  "kernelspec": {
   "display_name": ".venv",
   "language": "python",
   "name": "python3"
  },
  "language_info": {
   "codemirror_mode": {
    "name": "ipython",
    "version": 3
   },
   "file_extension": ".py",
   "mimetype": "text/x-python",
   "name": "python",
   "nbconvert_exporter": "python",
   "pygments_lexer": "ipython3",
   "version": "3.10.8"
  }
 },
 "nbformat": 4,
 "nbformat_minor": 2
}
