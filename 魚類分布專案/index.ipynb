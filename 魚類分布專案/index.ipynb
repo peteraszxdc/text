{
 "cells": [
  {
   "cell_type": "code",
   "execution_count": 1,
   "metadata": {},
   "outputs": [
    {
     "ename": "TypeError",
     "evalue": "WebDriver.__init__() got an unexpected keyword argument 'executable_path'",
     "output_type": "error",
     "traceback": [
      "\u001b[1;31m---------------------------------------------------------------------------\u001b[0m",
      "\u001b[1;31mTypeError\u001b[0m                                 Traceback (most recent call last)",
      "\u001b[1;32mc:\\Users\\User\\Desktop\\教學資料\\github檔案\\text\\魚類分布專案\\index.ipynb 儲存格 1\u001b[0m line \u001b[0;36m1\n\u001b[0;32m     <a href='vscode-notebook-cell:/c%3A/Users/User/Desktop/%E6%95%99%E5%AD%B8%E8%B3%87%E6%96%99/github%E6%AA%94%E6%A1%88/text/%E9%AD%9A%E9%A1%9E%E5%88%86%E5%B8%83%E5%B0%88%E6%A1%88/index.ipynb#W0sZmlsZQ%3D%3D?line=11'>12</a>\u001b[0m options \u001b[39m=\u001b[39m webdriver\u001b[39m.\u001b[39mChromeOptions()\n\u001b[0;32m     <a href='vscode-notebook-cell:/c%3A/Users/User/Desktop/%E6%95%99%E5%AD%B8%E8%B3%87%E6%96%99/github%E6%AA%94%E6%A1%88/text/%E9%AD%9A%E9%A1%9E%E5%88%86%E5%B8%83%E5%B0%88%E6%A1%88/index.ipynb#W0sZmlsZQ%3D%3D?line=12'>13</a>\u001b[0m options\u001b[39m.\u001b[39madd_argument(\u001b[39m\"\u001b[39m\u001b[39m--headless\u001b[39m\u001b[39m\"\u001b[39m)  \u001b[39m# 如果需要在无头模式下运行，可以添加这一行\u001b[39;00m\n\u001b[1;32m---> <a href='vscode-notebook-cell:/c%3A/Users/User/Desktop/%E6%95%99%E5%AD%B8%E8%B3%87%E6%96%99/github%E6%AA%94%E6%A1%88/text/%E9%AD%9A%E9%A1%9E%E5%88%86%E5%B8%83%E5%B0%88%E6%A1%88/index.ipynb#W0sZmlsZQ%3D%3D?line=13'>14</a>\u001b[0m browser \u001b[39m=\u001b[39m webdriver\u001b[39m.\u001b[39;49mChrome(executable_path\u001b[39m=\u001b[39;49mdriver_path, options\u001b[39m=\u001b[39;49moptions)\n\u001b[0;32m     <a href='vscode-notebook-cell:/c%3A/Users/User/Desktop/%E6%95%99%E5%AD%B8%E8%B3%87%E6%96%99/github%E6%AA%94%E6%A1%88/text/%E9%AD%9A%E9%A1%9E%E5%88%86%E5%B8%83%E5%B0%88%E6%A1%88/index.ipynb#W0sZmlsZQ%3D%3D?line=15'>16</a>\u001b[0m \u001b[39m# 打开网页\u001b[39;00m\n\u001b[0;32m     <a href='vscode-notebook-cell:/c%3A/Users/User/Desktop/%E6%95%99%E5%AD%B8%E8%B3%87%E6%96%99/github%E6%AA%94%E6%A1%88/text/%E9%AD%9A%E9%A1%9E%E5%88%86%E5%B8%83%E5%B0%88%E6%A1%88/index.ipynb#W0sZmlsZQ%3D%3D?line=16'>17</a>\u001b[0m browser\u001b[39m.\u001b[39mget(url)\n",
      "\u001b[1;31mTypeError\u001b[0m: WebDriver.__init__() got an unexpected keyword argument 'executable_path'"
     ]
    }
   ],
   "source": [
    "from selenium import webdriver\n",
    "from selenium.webdriver.common.by import By\n",
    "from selenium.webdriver.support.ui import WebDriverWait\n",
    "from selenium.webdriver.support import expected_conditions as EC\n",
    "\n",
    "url = \"https://fishdb.sinica.edu.tw/chi/fishlist.php?pz=100&page=1&R1=&m=&\"\n",
    "\n",
    "# 设置WebDriver路径，根据你下载的WebDriver类型选择相应的路径\n",
    "driver_path = \"C:\\Program Files\\Google\\Chrome\"\n",
    "\n",
    "# 初始化Chrome浏览器\n",
    "options = webdriver.ChromeOptions()\n",
    "options.add_argument(\"--headless\")  # 如果需要在无头模式下运行，可以添加这一行\n",
    "browser = webdriver.Chrome(executable_path=driver_path, options=options)\n",
    "\n",
    "# 打开网页\n",
    "browser.get(url)\n",
    "\n",
    "try:\n",
    "    # 定位第二行第六个td元素的文字\n",
    "    element_text = browser.find_element(\n",
    "        By.XPATH, '//table[@class=\"datagrid-btable\"]//tr[2]/td[6]'\n",
    "    ).text\n",
    "\n",
    "    # 输出点击的文字\n",
    "    print(f\"Clicked Text: {element_text}\")\n",
    "\n",
    "    # 点击元素\n",
    "    browser.find_element(\n",
    "        By.XPATH, '//table[@class=\"datagrid-btable\"]//tr[2]/td[6]'\n",
    "    ).click()\n",
    "\n",
    "    # 等待新页面加载完成，设置合适的等待时间\n",
    "    WebDriverWait(browser, 10).until(\n",
    "        EC.presence_of_element_located((By.XPATH, '//*[@id=\"your_element_id\"]'))\n",
    "    )\n",
    "\n",
    "    # 在新页面获取数据，这里以获取所有文字为例\n",
    "    new_page_text = browser.find_element(\n",
    "        By.XPATH, '//div[@class=\"your_class_name\"]'\n",
    "    ).text\n",
    "\n",
    "    # 在这里处理新页面的数据\n",
    "    print(f\"Text from the new page: {new_page_text}\")\n",
    "\n",
    "except Exception as e:\n",
    "    print(f\"An error occurred: {e}\")\n",
    "\n",
    "finally:\n",
    "    # 关闭浏览器\n",
    "    browser.quit()"
   ]
  },
  {
   "cell_type": "code",
   "execution_count": 9,
   "metadata": {},
   "outputs": [
    {
     "ename": "AttributeError",
     "evalue": "'NoneType' object has no attribute 'get_text'",
     "output_type": "error",
     "traceback": [
      "\u001b[1;31m---------------------------------------------------------------------------\u001b[0m",
      "\u001b[1;31mAttributeError\u001b[0m                            Traceback (most recent call last)",
      "\u001b[1;32mc:\\Users\\User\\Desktop\\教學資料\\github檔案\\text\\魚類分布專案\\index.ipynb 儲存格 2\u001b[0m line \u001b[0;36m1\n\u001b[0;32m     <a href='vscode-notebook-cell:/c%3A/Users/User/Desktop/%E6%95%99%E5%AD%B8%E8%B3%87%E6%96%99/github%E6%AA%94%E6%A1%88/text/%E9%AD%9A%E9%A1%9E%E5%88%86%E5%B8%83%E5%B0%88%E6%A1%88/index.ipynb#W1sZmlsZQ%3D%3D?line=14'>15</a>\u001b[0m     soup \u001b[39m=\u001b[39m BeautifulSoup(response\u001b[39m.\u001b[39mtext, \u001b[39m\"\u001b[39m\u001b[39mhtml.parser\u001b[39m\u001b[39m\"\u001b[39m)\n\u001b[0;32m     <a href='vscode-notebook-cell:/c%3A/Users/User/Desktop/%E6%95%99%E5%AD%B8%E8%B3%87%E6%96%99/github%E6%AA%94%E6%A1%88/text/%E9%AD%9A%E9%A1%9E%E5%88%86%E5%B8%83%E5%B0%88%E6%A1%88/index.ipynb#W1sZmlsZQ%3D%3D?line=16'>17</a>\u001b[0m     \u001b[39m# 在這裡添加提取數據的程式碼\u001b[39;00m\n\u001b[0;32m     <a href='vscode-notebook-cell:/c%3A/Users/User/Desktop/%E6%95%99%E5%AD%B8%E8%B3%87%E6%96%99/github%E6%AA%94%E6%A1%88/text/%E9%AD%9A%E9%A1%9E%E5%88%86%E5%B8%83%E5%B0%88%E6%A1%88/index.ipynb#W1sZmlsZQ%3D%3D?line=17'>18</a>\u001b[0m     \u001b[39m# 例如，提取文字內容\u001b[39;00m\n\u001b[1;32m---> <a href='vscode-notebook-cell:/c%3A/Users/User/Desktop/%E6%95%99%E5%AD%B8%E8%B3%87%E6%96%99/github%E6%AA%94%E6%A1%88/text/%E9%AD%9A%E9%A1%9E%E5%88%86%E5%B8%83%E5%B0%88%E6%A1%88/index.ipynb#W1sZmlsZQ%3D%3D?line=18'>19</a>\u001b[0m     content \u001b[39m=\u001b[39m soup\u001b[39m.\u001b[39;49mfind(\u001b[39m\"\u001b[39;49m\u001b[39mdiv\u001b[39;49m\u001b[39m\"\u001b[39;49m, class_\u001b[39m=\u001b[39;49m\u001b[39m\"\u001b[39;49m\u001b[39mcontent\u001b[39;49m\u001b[39m\"\u001b[39;49m)\u001b[39m.\u001b[39;49mget_text(strip\u001b[39m=\u001b[39m\u001b[39mTrue\u001b[39;00m)\n\u001b[0;32m     <a href='vscode-notebook-cell:/c%3A/Users/User/Desktop/%E6%95%99%E5%AD%B8%E8%B3%87%E6%96%99/github%E6%AA%94%E6%A1%88/text/%E9%AD%9A%E9%A1%9E%E5%88%86%E5%B8%83%E5%B0%88%E6%A1%88/index.ipynb#W1sZmlsZQ%3D%3D?line=19'>20</a>\u001b[0m     \u001b[39mprint\u001b[39m(content)\n\u001b[0;32m     <a href='vscode-notebook-cell:/c%3A/Users/User/Desktop/%E6%95%99%E5%AD%B8%E8%B3%87%E6%96%99/github%E6%AA%94%E6%A1%88/text/%E9%AD%9A%E9%A1%9E%E5%88%86%E5%B8%83%E5%B0%88%E6%A1%88/index.ipynb#W1sZmlsZQ%3D%3D?line=21'>22</a>\u001b[0m     \u001b[39m# 如果有其他需要提取的元素，請繼續在這裡添加程式碼\u001b[39;00m\n\u001b[0;32m     <a href='vscode-notebook-cell:/c%3A/Users/User/Desktop/%E6%95%99%E5%AD%B8%E8%B3%87%E6%96%99/github%E6%AA%94%E6%A1%88/text/%E9%AD%9A%E9%A1%9E%E5%88%86%E5%B8%83%E5%B0%88%E6%A1%88/index.ipynb#W1sZmlsZQ%3D%3D?line=22'>23</a>\u001b[0m \n\u001b[0;32m     <a href='vscode-notebook-cell:/c%3A/Users/User/Desktop/%E6%95%99%E5%AD%B8%E8%B3%87%E6%96%99/github%E6%AA%94%E6%A1%88/text/%E9%AD%9A%E9%A1%9E%E5%88%86%E5%B8%83%E5%B0%88%E6%A1%88/index.ipynb#W1sZmlsZQ%3D%3D?line=23'>24</a>\u001b[0m \u001b[39melse\u001b[39;00m:\n",
      "\u001b[1;31mAttributeError\u001b[0m: 'NoneType' object has no attribute 'get_text'"
     ]
    }
   ],
   "source": [
    "import requests\n",
    "from bs4 import BeautifulSoup\n",
    "\n",
    "url = \"https://fishdb.sinica.edu.tw/chi/fishlist.php\"  # 替換成你的網頁URL\n",
    "\n",
    "# 發送 GET 請求\n",
    "headers = {\n",
    "    \"User-Agent\": \"Mozilla/5.0 (Windows NT 10.0; Win64; x64) AppleWebKit/537.36 (KHTML, like Gecko) Chrome/119.0.0.0 Safari/537.36\"\n",
    "}\n",
    "response = requests.get(url, headers=headers)\n",
    "\n",
    "# 檢查響應狀態碼\n",
    "if response.status_code == 200:\n",
    "    # 使用 BeautifulSoup 解析 HTML\n",
    "    soup = BeautifulSoup(response.text, \"html.parser\")\n",
    "\n",
    "    # 在這裡添加提取數據的程式碼\n",
    "    # 例如，提取文字內容\n",
    "    content = soup.find(\"div\", class_=\"content\").get_text(strip=True)\n",
    "    print(content)\n",
    "\n",
    "    # 如果有其他需要提取的元素，請繼續在這裡添加程式碼\n",
    "\n",
    "else:\n",
    "    print(f\"錯誤：無法獲取響應，狀態碼 {response.status_code}\")"
   ]
  },
  {
   "cell_type": "code",
   "execution_count": 10,
   "metadata": {},
   "outputs": [
    {
     "ename": "IndexError",
     "evalue": "list index out of range",
     "output_type": "error",
     "traceback": [
      "\u001b[1;31m---------------------------------------------------------------------------\u001b[0m",
      "\u001b[1;31mIndexError\u001b[0m                                Traceback (most recent call last)",
      "\u001b[1;32mc:\\Users\\User\\Desktop\\教學資料\\github檔案\\text\\魚類分布專案\\index.ipynb 儲存格 3\u001b[0m line \u001b[0;36m1\n\u001b[0;32m     <a href='vscode-notebook-cell:/c%3A/Users/User/Desktop/%E6%95%99%E5%AD%B8%E8%B3%87%E6%96%99/github%E6%AA%94%E6%A1%88/text/%E9%AD%9A%E9%A1%9E%E5%88%86%E5%B8%83%E5%B0%88%E6%A1%88/index.ipynb#W2sZmlsZQ%3D%3D?line=13'>14</a>\u001b[0m second_tr \u001b[39m=\u001b[39m soup\u001b[39m.\u001b[39mfind_all(\u001b[39m\"\u001b[39m\u001b[39mtr\u001b[39m\u001b[39m\"\u001b[39m)[\u001b[39m1\u001b[39m]  \u001b[39m# 索引从0开始，所以第二个是索引1\u001b[39;00m\n\u001b[0;32m     <a href='vscode-notebook-cell:/c%3A/Users/User/Desktop/%E6%95%99%E5%AD%B8%E8%B3%87%E6%96%99/github%E6%AA%94%E6%A1%88/text/%E9%AD%9A%E9%A1%9E%E5%88%86%E5%B8%83%E5%B0%88%E6%A1%88/index.ipynb#W2sZmlsZQ%3D%3D?line=15'>16</a>\u001b[0m \u001b[39m# 寻找第六个 <td> 元素\u001b[39;00m\n\u001b[1;32m---> <a href='vscode-notebook-cell:/c%3A/Users/User/Desktop/%E6%95%99%E5%AD%B8%E8%B3%87%E6%96%99/github%E6%AA%94%E6%A1%88/text/%E9%AD%9A%E9%A1%9E%E5%88%86%E5%B8%83%E5%B0%88%E6%A1%88/index.ipynb#W2sZmlsZQ%3D%3D?line=16'>17</a>\u001b[0m sixth_td \u001b[39m=\u001b[39m second_tr\u001b[39m.\u001b[39;49mfind_all(\u001b[39m\"\u001b[39;49m\u001b[39mtd\u001b[39;49m\u001b[39m\"\u001b[39;49m)[\u001b[39m5\u001b[39;49m]  \u001b[39m# 索引从0开始，所以第六个是索引5\u001b[39;00m\n\u001b[0;32m     <a href='vscode-notebook-cell:/c%3A/Users/User/Desktop/%E6%95%99%E5%AD%B8%E8%B3%87%E6%96%99/github%E6%AA%94%E6%A1%88/text/%E9%AD%9A%E9%A1%9E%E5%88%86%E5%B8%83%E5%B0%88%E6%A1%88/index.ipynb#W2sZmlsZQ%3D%3D?line=18'>19</a>\u001b[0m \u001b[39m# 提取文字内容\u001b[39;00m\n\u001b[0;32m     <a href='vscode-notebook-cell:/c%3A/Users/User/Desktop/%E6%95%99%E5%AD%B8%E8%B3%87%E6%96%99/github%E6%AA%94%E6%A1%88/text/%E9%AD%9A%E9%A1%9E%E5%88%86%E5%B8%83%E5%B0%88%E6%A1%88/index.ipynb#W2sZmlsZQ%3D%3D?line=19'>20</a>\u001b[0m content \u001b[39m=\u001b[39m sixth_td\u001b[39m.\u001b[39mget_text(strip\u001b[39m=\u001b[39m\u001b[39mTrue\u001b[39;00m)\n",
      "\u001b[1;31mIndexError\u001b[0m: list index out of range"
     ]
    }
   ],
   "source": [
    "import requests\n",
    "from bs4 import BeautifulSoup\n",
    "\n",
    "url = \"https://fishdb.sinica.edu.tw/chi/fishlist.php\"\n",
    "headers = {\n",
    "    \"User-Agent\": \"Mozilla/5.0 (Windows NT 10.0; Win64; x64) AppleWebKit/537.36 (KHTML, like Gecko) Chrome/119.0.0.0 Safari/537.36\"\n",
    "}\n",
    "response = requests.get(url, headers=headers)\n",
    "\n",
    "if response.status_code == 200:\n",
    "    soup = BeautifulSoup(response.text, \"html.parser\")\n",
    "\n",
    "    # 寻找第二个 <tr> 元素\n",
    "    second_tr = soup.find_all(\"tr\")[1]  # 索引从0开始，所以第二个是索引1\n",
    "\n",
    "    # 寻找第六个 <td> 元素\n",
    "    sixth_td = second_tr.find_all(\"td\")[5]  # 索引从0开始，所以第六个是索引5\n",
    "\n",
    "    # 提取文字内容\n",
    "    content = sixth_td.get_text(strip=True)\n",
    "\n",
    "    print(content)\n",
    "\n",
    "else:\n",
    "    print(f\"错误：无法获取响应，状态码 {response.status_code}\")"
   ]
  },
  {
   "cell_type": "code",
   "execution_count": 11,
   "metadata": {},
   "outputs": [
    {
     "ename": "TypeError",
     "evalue": "WebDriver.__init__() got an unexpected keyword argument 'executable_path'",
     "output_type": "error",
     "traceback": [
      "\u001b[1;31m---------------------------------------------------------------------------\u001b[0m",
      "\u001b[1;31mTypeError\u001b[0m                                 Traceback (most recent call last)",
      "\u001b[1;32mc:\\Users\\User\\Desktop\\教學資料\\github檔案\\text\\魚類分布專案\\index.ipynb 儲存格 4\u001b[0m line \u001b[0;36m9\n\u001b[0;32m      <a href='vscode-notebook-cell:/c%3A/Users/User/Desktop/%E6%95%99%E5%AD%B8%E8%B3%87%E6%96%99/github%E6%AA%94%E6%A1%88/text/%E9%AD%9A%E9%A1%9E%E5%88%86%E5%B8%83%E5%B0%88%E6%A1%88/index.ipynb#W3sZmlsZQ%3D%3D?line=5'>6</a>\u001b[0m chrome_path \u001b[39m=\u001b[39m \u001b[39m\"\u001b[39m\u001b[39mC:\u001b[39m\u001b[39m\\\u001b[39m\u001b[39mProgram Files\u001b[39m\u001b[39m\\\u001b[39m\u001b[39mGoogle\u001b[39m\u001b[39m\\\u001b[39m\u001b[39mChrome\u001b[39m\u001b[39m\\\u001b[39m\u001b[39mchromedriver.exe\u001b[39m\u001b[39m\"\u001b[39m  \u001b[39m# 替换成你下载的 Chrome Driver 的路径\u001b[39;00m\n\u001b[0;32m      <a href='vscode-notebook-cell:/c%3A/Users/User/Desktop/%E6%95%99%E5%AD%B8%E8%B3%87%E6%96%99/github%E6%AA%94%E6%A1%88/text/%E9%AD%9A%E9%A1%9E%E5%88%86%E5%B8%83%E5%B0%88%E6%A1%88/index.ipynb#W3sZmlsZQ%3D%3D?line=7'>8</a>\u001b[0m \u001b[39m# 创建 Chrome WebDriver\u001b[39;00m\n\u001b[1;32m----> <a href='vscode-notebook-cell:/c%3A/Users/User/Desktop/%E6%95%99%E5%AD%B8%E8%B3%87%E6%96%99/github%E6%AA%94%E6%A1%88/text/%E9%AD%9A%E9%A1%9E%E5%88%86%E5%B8%83%E5%B0%88%E6%A1%88/index.ipynb#W3sZmlsZQ%3D%3D?line=8'>9</a>\u001b[0m driver \u001b[39m=\u001b[39m webdriver\u001b[39m.\u001b[39;49mChrome(executable_path\u001b[39m=\u001b[39;49mchrome_path)\n\u001b[0;32m     <a href='vscode-notebook-cell:/c%3A/Users/User/Desktop/%E6%95%99%E5%AD%B8%E8%B3%87%E6%96%99/github%E6%AA%94%E6%A1%88/text/%E9%AD%9A%E9%A1%9E%E5%88%86%E5%B8%83%E5%B0%88%E6%A1%88/index.ipynb#W3sZmlsZQ%3D%3D?line=10'>11</a>\u001b[0m \u001b[39m# 打开网页\u001b[39;00m\n\u001b[0;32m     <a href='vscode-notebook-cell:/c%3A/Users/User/Desktop/%E6%95%99%E5%AD%B8%E8%B3%87%E6%96%99/github%E6%AA%94%E6%A1%88/text/%E9%AD%9A%E9%A1%9E%E5%88%86%E5%B8%83%E5%B0%88%E6%A1%88/index.ipynb#W3sZmlsZQ%3D%3D?line=11'>12</a>\u001b[0m url \u001b[39m=\u001b[39m \u001b[39m\"\u001b[39m\u001b[39mhttps://fishdb.sinica.edu.tw/chi/fishlist.php\u001b[39m\u001b[39m\"\u001b[39m\n",
      "\u001b[1;31mTypeError\u001b[0m: WebDriver.__init__() got an unexpected keyword argument 'executable_path'"
     ]
    }
   ],
   "source": [
    "from selenium import webdriver\n",
    "from selenium.webdriver.common.by import By\n",
    "from selenium.webdriver.chrome.service import Service as ChromeService\n",
    "\n",
    "# 设置 Chrome Driver 的路径\n",
    "chrome_path = \"C:\\Program Files\\Google\\Chrome\\chromedriver.exe\"  # 替换成你下载的 Chrome Driver 的路径\n",
    "\n",
    "# 创建 Chrome WebDriver\n",
    "driver = webdriver.Chrome(executable_path=chrome_path)\n",
    "\n",
    "# 打开网页\n",
    "url = \"https://fishdb.sinica.edu.tw/chi/fishlist.php\"\n",
    "driver.get(url)\n",
    "\n",
    "try:\n",
    "    # 寻找第二个 <tr> 元素中的第六个 <td> 元素\n",
    "    xpath = \"//table[@id='results']/tbody/tr[2]/td[6]\"\n",
    "    element = driver.find_element(By.XPATH, xpath)\n",
    "\n",
    "    # 点击元素\n",
    "    element.click()\n",
    "\n",
    "    # 获取点击后的页面源码\n",
    "    new_page_source = driver.page_source\n",
    "\n",
    "    # 在新的页面源码中找到需要的数据\n",
    "    # 这里你需要根据实际情况使用 BeautifulSoup 或其他方法来处理新的页面源码\n",
    "\n",
    "    print(\"成功点击元素，获取到的页面源码：\")\n",
    "    print(new_page_source)\n",
    "\n",
    "finally:\n",
    "    # 关闭浏览器窗口\n",
    "    driver.quit()"
   ]
  },
  {
   "cell_type": "code",
   "execution_count": 19,
   "metadata": {},
   "outputs": [
    {
     "ename": "TypeError",
     "evalue": "WebDriver.__init__() got an unexpected keyword argument 'executable_path'",
     "output_type": "error",
     "traceback": [
      "\u001b[1;31m---------------------------------------------------------------------------\u001b[0m",
      "\u001b[1;31mTypeError\u001b[0m                                 Traceback (most recent call last)",
      "\u001b[1;32mc:\\Users\\User\\Desktop\\教學資料\\github檔案\\text\\魚類分布專案\\index.ipynb 儲存格 5\u001b[0m line \u001b[0;36m9\n\u001b[0;32m      <a href='vscode-notebook-cell:/c%3A/Users/User/Desktop/%E6%95%99%E5%AD%B8%E8%B3%87%E6%96%99/github%E6%AA%94%E6%A1%88/text/%E9%AD%9A%E9%A1%9E%E5%88%86%E5%B8%83%E5%B0%88%E6%A1%88/index.ipynb#W4sZmlsZQ%3D%3D?line=5'>6</a>\u001b[0m chrome_path \u001b[39m=\u001b[39m (\u001b[39m\"\u001b[39m\u001b[39mC:\u001b[39m\u001b[39m\\\u001b[39m\u001b[39mProgram Files\u001b[39m\u001b[39m\\\u001b[39m\u001b[39mGoogle\u001b[39m\u001b[39m\\\u001b[39m\u001b[39mChrome\u001b[39m\u001b[39m\\\u001b[39m\u001b[39mApplication\u001b[39m\u001b[39m\\\u001b[39m\u001b[39mchrome.exe\u001b[39m\u001b[39m\"\u001b[39m)  \u001b[39m# 替换成你下载的 Chrome Driver 的路径)\u001b[39;00m\n\u001b[0;32m      <a href='vscode-notebook-cell:/c%3A/Users/User/Desktop/%E6%95%99%E5%AD%B8%E8%B3%87%E6%96%99/github%E6%AA%94%E6%A1%88/text/%E9%AD%9A%E9%A1%9E%E5%88%86%E5%B8%83%E5%B0%88%E6%A1%88/index.ipynb#W4sZmlsZQ%3D%3D?line=7'>8</a>\u001b[0m \u001b[39m# 创建 Chrome WebDriver\u001b[39;00m\n\u001b[1;32m----> <a href='vscode-notebook-cell:/c%3A/Users/User/Desktop/%E6%95%99%E5%AD%B8%E8%B3%87%E6%96%99/github%E6%AA%94%E6%A1%88/text/%E9%AD%9A%E9%A1%9E%E5%88%86%E5%B8%83%E5%B0%88%E6%A1%88/index.ipynb#W4sZmlsZQ%3D%3D?line=8'>9</a>\u001b[0m driver \u001b[39m=\u001b[39m webdriver\u001b[39m.\u001b[39;49mChrome(executable_path\u001b[39m=\u001b[39;49mchrome_path)\n\u001b[0;32m     <a href='vscode-notebook-cell:/c%3A/Users/User/Desktop/%E6%95%99%E5%AD%B8%E8%B3%87%E6%96%99/github%E6%AA%94%E6%A1%88/text/%E9%AD%9A%E9%A1%9E%E5%88%86%E5%B8%83%E5%B0%88%E6%A1%88/index.ipynb#W4sZmlsZQ%3D%3D?line=10'>11</a>\u001b[0m \u001b[39m# 打开网页\u001b[39;00m\n\u001b[0;32m     <a href='vscode-notebook-cell:/c%3A/Users/User/Desktop/%E6%95%99%E5%AD%B8%E8%B3%87%E6%96%99/github%E6%AA%94%E6%A1%88/text/%E9%AD%9A%E9%A1%9E%E5%88%86%E5%B8%83%E5%B0%88%E6%A1%88/index.ipynb#W4sZmlsZQ%3D%3D?line=11'>12</a>\u001b[0m url \u001b[39m=\u001b[39m \u001b[39m\"\u001b[39m\u001b[39mhttps://www.instagram.com/_042833/?hl=zh-tw\u001b[39m\u001b[39m\"\u001b[39m\n",
      "\u001b[1;31mTypeError\u001b[0m: WebDriver.__init__() got an unexpected keyword argument 'executable_path'"
     ]
    }
   ],
   "source": [
    "from selenium import webdriver\n",
    "from selenium.webdriver.common.by import By\n",
    "from selenium.webdriver.chrome.service import Service as ChromeService\n",
    "\n",
    "# 设置 Chrome Driver 的路径\n",
    "chrome_path = \"C:\\Program Files\\Google\\Chrome\\Application\\chrome.exe\"  # 替换成你下载的 Chrome Driver 的路径)\n",
    "\n",
    "# 创建 Chrome WebDriver\n",
    "driver = webdriver.Chrome(executable_path=chrome_path)\n",
    "\n",
    "# 打开网页\n",
    "url = \"https://www.instagram.com/_042833/?hl=zh-tw\"\n",
    "driver.get(url)"
   ]
  }
 ],
 "metadata": {
  "kernelspec": {
   "display_name": ".venv",
   "language": "python",
   "name": "python3"
  },
  "language_info": {
   "codemirror_mode": {
    "name": "ipython",
    "version": 3
   },
   "file_extension": ".py",
   "mimetype": "text/x-python",
   "name": "python",
   "nbconvert_exporter": "python",
   "pygments_lexer": "ipython3",
   "version": "3.10.8"
  }
 },
 "nbformat": 4,
 "nbformat_minor": 2
}
