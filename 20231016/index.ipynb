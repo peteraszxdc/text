{
 "cells": [
  {
   "cell_type": "code",
   "execution_count": 1,
   "metadata": {},
   "outputs": [
    {
     "name": "stdout",
     "output_type": "stream",
     "text": [
      "[*********************100%%**********************]  1 of 1 completed\n"
     ]
    }
   ],
   "source": [
    "import yfinance as yf\n",
    "\n",
    "data = yf.download(\"2330.TW\",start='2023-01-01')\n",
    "data.to_csv('台積電.csv')"
   ]
  },
  {
   "cell_type": "code",
   "execution_count": 5,
   "metadata": {},
   "outputs": [
    {
     "name": "stdout",
     "output_type": "stream",
     "text": [
      "[*********************100%%**********************]  1 of 1 completed\n",
      "             Open   High    Low  Close   Adj Close    Volume\n",
      "Date                                                        \n",
      "2023-01-03  446.0  453.5  443.0  453.0  445.975525  14885824\n",
      "2023-01-04  449.5  455.0  448.5  449.5  442.529816  19188422\n",
      "2023-01-05  459.0  459.5  455.0  458.5  451.390228  23549581\n",
      "2023-01-06  455.0  459.5  455.0  458.5  451.390228  20886011\n",
      "2023-01-09  468.0  481.0  467.5  481.0  473.541351  46666263\n",
      "...           ...    ...    ...    ...         ...       ...\n",
      "2023-10-11  542.0  544.0  540.0  544.0  544.000000  46639969\n",
      "2023-10-12  545.0  550.0  544.0  550.0  550.000000  34161176\n",
      "2023-10-13  550.0  554.0  548.0  553.0  553.000000  31123496\n",
      "2023-10-16  546.0  547.0  542.0  545.0  545.000000  19875676\n",
      "2023-10-17  550.0  552.0  548.0  551.0  551.000000  18967999\n",
      "\n",
      "[186 rows x 6 columns]\n"
     ]
    }
   ],
   "source": [
    "import yfinance as yf\n",
    "import csv\n",
    "data = yf.download(\"2330.TW\",start='2023-01-01')\n",
    "print(data)"
   ]
  }
 ],
 "metadata": {
  "kernelspec": {
   "display_name": ".venv",
   "language": "python",
   "name": "python3"
  },
  "language_info": {
   "codemirror_mode": {
    "name": "ipython",
    "version": 3
   },
   "file_extension": ".py",
   "mimetype": "text/x-python",
   "name": "python",
   "nbconvert_exporter": "python",
   "pygments_lexer": "ipython3",
   "version": "3.10.8"
  }
 },
 "nbformat": 4,
 "nbformat_minor": 2
}
