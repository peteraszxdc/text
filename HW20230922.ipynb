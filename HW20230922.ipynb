{
 "cells": [
  {
   "cell_type": "code",
   "execution_count": 6,
   "metadata": {},
   "outputs": [
    {
     "name": "stdout",
     "output_type": "stream",
     "text": [
      "請輸入整數，求所有因數:求500的因數\n",
      "1,2,4,5,10,20,25,50,100,125,250,500,"
     ]
    }
   ],
   "source": [
    "#所有因數\n",
    "#print(num,\"的因數:\")\n",
    "\n",
    "import pyinputplus as pyip\n",
    "a = pyip.inputInt(prompt=\"請輸入整數，求所有因數:\")\n",
    "print(f\"求{a}的因數\")\n",
    "for i in range(1, a+1):\n",
    "    if a%i==0:\n",
    "        print(i,end=\",\")\n",
    "    else:\n",
    "        pass     \n",
    "\n"
   ]
  },
  {
   "cell_type": "code",
   "execution_count": 5,
   "metadata": {},
   "outputs": [
    {
     "name": "stdout",
     "output_type": "stream",
     "text": [
      "1,2,4,5,10,20,25,50,100,"
     ]
    }
   ],
   "source": [
    "#求公因數\n",
    "#print(\"請輸入2數,求2數公因數:\")\n",
    "n = int(input('請輸入第1個數:'))\n",
    "m = int(input('請輸入第2個數:'))\n",
    "a=0\n",
    "if n<m:\n",
    "    a=n\n",
    "else:\n",
    "    a=m\n",
    "\n",
    "for i in range(1,a+1):\n",
    "    if n%i==0 and m%i==0:\n",
    "        print(i,end=\",\")\n",
    "    else:\n",
    "        pass\n",
    "\n",
    "\n",
    "\n",
    "\n"
   ]
  },
  {
   "cell_type": "code",
   "execution_count": 7,
   "metadata": {},
   "outputs": [
    {
     "name": "stdout",
     "output_type": "stream",
     "text": [
      "1到200的質數是:\n",
      "2,3,5,7,11,13,17,19,23,29,31,37,41,43,47,53,59,61,67,71,73,79,83,89,97,101,103,107,109,113,127,131,137,139,149,151,157,163,167,173,179,181,191,193,197,199,"
     ]
    }
   ],
   "source": [
    "#2~100,每一個的質數\n",
    "a = int(input(\"請輸入end值:\"))\n",
    "print(f\"1到{a}的質數是:\")\n",
    "\n",
    "for i in range(2, a+1):\n",
    "    for b in range(2,i):\n",
    "        if i%b==0 and i!=b:\n",
    "            break\n",
    "    else:\n",
    "        print(i,end=\",\")  \n",
    "\n",
    "\n"
   ]
  }
 ],
 "metadata": {
  "kernelspec": {
   "display_name": ".venv",
   "language": "python",
   "name": "python3"
  },
  "language_info": {
   "codemirror_mode": {
    "name": "ipython",
    "version": 3
   },
   "file_extension": ".py",
   "mimetype": "text/x-python",
   "name": "python",
   "nbconvert_exporter": "python",
   "pygments_lexer": "ipython3",
   "version": "3.10.8"
  },
  "orig_nbformat": 4
 },
 "nbformat": 4,
 "nbformat_minor": 2
}
