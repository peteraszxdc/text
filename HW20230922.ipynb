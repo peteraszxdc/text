{
 "cells": [
  {
   "cell_type": "code",
   "execution_count": 6,
   "metadata": {},
   "outputs": [
    {
     "name": "stdout",
     "output_type": "stream",
     "text": [
      "請輸入整數，求所有因數:求500的因數\n",
      "1,2,4,5,10,20,25,50,100,125,250,500,"
     ]
    }
   ],
   "source": [
    "#所有因數\n",
    "#print(num,\"的因數:\")\n",
    "\n",
    "import pyinputplus as pyip\n",
    "a = pyip.inputInt(prompt=\"請輸入整數，求所有因數:\")\n",
    "print(f\"求{a}的因數\")\n",
    "for i in range(1, a+1):\n",
    "    if a%i==0:\n",
    "        print(i,end=\",\")\n",
    "    else:\n",
    "        pass     \n",
    "\n"
   ]
  },
  {
   "cell_type": "code",
   "execution_count": 5,
   "metadata": {},
   "outputs": [
    {
     "name": "stdout",
     "output_type": "stream",
     "text": [
      "1,2,4,5,10,20,25,50,100,"
     ]
    }
   ],
   "source": [
    "#求公因數\n",
    "#print(\"請輸入2數,求2數公因數:\")\n",
    "n = int(input('請輸入第1個數:'))\n",
    "m = int(input('請輸入第2個數:'))\n",
    "a=0\n",
    "if n<m:\n",
    "    a=n\n",
    "else:\n",
    "    a=m\n",
    "\n",
    "for i in range(1,a+1):\n",
    "    if n%i==0 and m%i==0:\n",
    "        print(i,end=\",\")\n",
    "    else:\n",
    "        pass\n",
    "\n",
    "\n",
    "\n",
    "\n"
   ]
  },
  {
   "cell_type": "code",
   "execution_count": 7,
   "metadata": {},
   "outputs": [
    {
     "name": "stdout",
     "output_type": "stream",
     "text": [
      "1到200的質數是:\n",
      "2,3,5,7,11,13,17,19,23,29,31,37,41,43,47,53,59,61,67,71,73,79,83,89,97,101,103,107,109,113,127,131,137,139,149,151,157,163,167,173,179,181,191,193,197,199,"
     ]
    }
   ],
   "source": [
    "#2~100,每一個的質數\n",
    "a = int(input(\"請輸入end值:\"))\n",
    "print(f\"1到{a}的質數是:\")\n",
    "\n",
    "for i in range(2, a+1):\n",
    "    for b in range(2,i):\n",
    "        if i%b==0 and i!=b:\n",
    "            break\n",
    "    else:\n",
    "        print(i,end=\",\")  \n",
    "\n",
    "\n"
   ]
  },
  {
   "cell_type": "code",
   "execution_count": 10,
   "metadata": {},
   "outputs": [
    {
     "name": "stdout",
     "output_type": "stream",
     "text": [
      "===============猜數字遊戲=================:\n",
      "\n"
     ]
    }
   ],
   "source": [
    "#- 猜中要告知猜了幾次\n",
    "#- 沒猜中要有提醒\n",
    "import random\n",
    "min = 1\n",
    "max = 100\n",
    "count = 0\n",
    "#target = random.randint(min, max)\n",
    "print(\"===============猜數字遊戲=================:\\n\")\n",
    "a=random.randint(1,100)\n",
    "while(True):\n",
    "      guess = input(f\"猜數字範圍{min}~{max}\")\n",
    "      count+=1\n",
    "         if guess>a:\n",
    "            print(\"再小一點\")\n",
    "            continue\n",
    "        \n",
    "            print(\"再大一點\")\n",
    "            continue\n",
    "      b+=1\n",
    "      print(b)\n",
    "     except:\n",
    "        break\n",
    "        \n",
    "\n",
    "      \n",
    "\n",
    "\n",
    "\n",
    "\n",
    "\n",
    "\n",
    "\n"
   ]
  },
  {
   "cell_type": "code",
   "execution_count": null,
   "metadata": {},
   "outputs": [],
   "source": [
    "例如:\n",
    "\n",
    "要猜的數值是:34\n",
    "\n",
    "猜數字範圍1~100:50\n",
    "提示:\n",
    "再小一點\n",
    "您已經猜了1次\n",
    "\n",
    "猜數字範圍1~49:10\n",
    "提示:\n",
    "再大一點\n",
    "您已經猜了2次\n",
    "猜數字範圍11~49:34\n",
    "\n",
    "您猜中了,答案是34\n",
    "您總共猜了3次"
   ]
  },
  {
   "cell_type": "code",
   "execution_count": 7,
   "metadata": {},
   "outputs": [
    {
     "name": "stdout",
     "output_type": "stream",
     "text": [
      "7\n",
      "請輸入要猜的數字，在 1 到 100 之間\n",
      "猜錯了，比較小\n",
      "您已經猜了1次\n",
      "請輸入要猜的數字，在 1 到 55 之間\n",
      "猜錯了，比較大\n",
      "您已經猜了2次\n",
      "請輸入要猜的數字，在 2 到 55 之間\n",
      "猜錯了，比較大\n",
      "您已經猜了3次\n",
      "請輸入要猜的數字，在 4 到 55 之間\n",
      "猜錯了，比較大\n",
      "您已經猜了4次\n",
      "請輸入要猜的數字，在 4 到 55 之間\n",
      "猜錯了，比較小\n",
      "您已經猜了5次\n",
      "請輸入要猜的數字，在 4 到 9 之間\n",
      "傻逼? 4~9很難?\n",
      "請輸入要猜的數字，在 4 到 9 之間\n",
      "傻逼? 4~9很難?\n",
      "請輸入要猜的數字，在 4 到 9 之間\n",
      "傻逼? 4~9很難?\n",
      "請輸入要猜的數字，在 4 到 9 之間\n",
      "猜錯了，比較小\n",
      "您已經猜了6次\n",
      "請輸入要猜的數字，在 4 到 8 之間\n",
      "恭喜猜到了\n",
      "您總共猜了6次\n"
     ]
    }
   ],
   "source": [
    "import random\n",
    "answer = random.randint(1,100)\n",
    "print(answer)\n",
    "min=1\n",
    "max=100\n",
    "count=0\n",
    "b = True\n",
    "while (b):\n",
    "    print(\"請輸入要猜的數字，在\", min , \"到\",max ,\"之間\")\n",
    "    guess  =  int(input())\n",
    "    if(answer == guess):\n",
    "        print(\"恭喜猜到了\")\n",
    "        print(f\"您總共猜了{count}次\")\n",
    "        b= False\n",
    "    \n",
    "    elif(answer< guess):\n",
    "        if guess>=max:\n",
    "            print(f\"傻逼? {min}~{max}很難?\")\n",
    "            continue\n",
    "        else:\n",
    "            pass\n",
    "        print(\"猜錯了，比較小\")\n",
    "        max = guess\n",
    "        count+=1\n",
    "        print(f\"您已經猜了{count}次\")\n",
    "        \n",
    "            \n",
    "    elif(answer>guess):\n",
    "        if guess<=min:\n",
    "            print(f\"傻逼? {min}~{max}很難?\")\n",
    "            continue\n",
    "        else:\n",
    "            pass\n",
    "        print(\"猜錯了，比較大\")\n",
    "        min = guess\n",
    "        count+=1\n",
    "        print(f\"您已經猜了{count}次\")"
   ]
  }
 ],
 "metadata": {
  "kernelspec": {
   "display_name": ".venv",
   "language": "python",
   "name": "python3"
  },
  "language_info": {
   "codemirror_mode": {
    "name": "ipython",
    "version": 3
   },
   "file_extension": ".py",
   "mimetype": "text/x-python",
   "name": "python",
   "nbconvert_exporter": "python",
   "pygments_lexer": "ipython3",
   "version": "3.10.8"
  },
  "orig_nbformat": 4
 },
 "nbformat": 4,
 "nbformat_minor": 2
}
