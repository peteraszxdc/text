{
 "cells": [
  {
   "cell_type": "code",
   "execution_count": 26,
   "metadata": {},
   "outputs": [],
   "source": [
    "import tkinter as tk\n",
    "from tkinter import ttk\n",
    "from tkinter import messagebox\n",
    "import datasource\n",
    "class Window(tk.Tk):\n",
    "    def __init__(self,**kwargs):\n",
    "        super().__init__(**kwargs)\n",
    "        try:\n",
    "            datasource.download_youbike_data()\n",
    "        except Exception as e:\n",
    "            messagebox.showerror(\"錯誤\",e)\n",
    "def main():\n",
    "    window = Window()\n",
    "    window.title('台北市youbike2.0')\n",
    "    window.geometry('600x300')\n",
    "    window.resizable(width=False,height=False)  \n",
    "    '''視窗不可調整'''\n",
    "    window.mainloop()\n",
    "if __name__ == '__main__' :\n",
    "    main()\n"
   ]
  },
  {
   "cell_type": "code",
   "execution_count": 14,
   "metadata": {},
   "outputs": [
    {
     "ename": "Exception",
     "evalue": "下載失敗",
     "output_type": "error",
     "traceback": [
      "\u001b[1;31m---------------------------------------------------------------------------\u001b[0m",
      "\u001b[1;31mException\u001b[0m                                 Traceback (most recent call last)",
      "\u001b[1;32mc:\\Users\\User\\Desktop\\教學資料\\github檔案\\text\\20231026\\1026.ipynb 儲存格 2\u001b[0m line \u001b[0;36m1\n\u001b[0;32m      <a href='vscode-notebook-cell:/c%3A/Users/User/Desktop/%E6%95%99%E5%AD%B8%E8%B3%87%E6%96%99/github%E6%AA%94%E6%A1%88/text/20231026/1026.ipynb#W1sZmlsZQ%3D%3D?line=7'>8</a>\u001b[0m     \u001b[39melse\u001b[39;00m:\n\u001b[0;32m      <a href='vscode-notebook-cell:/c%3A/Users/User/Desktop/%E6%95%99%E5%AD%B8%E8%B3%87%E6%96%99/github%E6%AA%94%E6%A1%88/text/20231026/1026.ipynb#W1sZmlsZQ%3D%3D?line=8'>9</a>\u001b[0m         \u001b[39mraise\u001b[39;00m \u001b[39mException\u001b[39;00m(\u001b[39m\"\u001b[39m\u001b[39m下載失敗\u001b[39m\u001b[39m\"\u001b[39m)\n\u001b[1;32m---> <a href='vscode-notebook-cell:/c%3A/Users/User/Desktop/%E6%95%99%E5%AD%B8%E8%B3%87%E6%96%99/github%E6%AA%94%E6%A1%88/text/20231026/1026.ipynb#W1sZmlsZQ%3D%3D?line=9'>10</a>\u001b[0m download_youbike_data()\n",
      "\u001b[1;32mc:\\Users\\User\\Desktop\\教學資料\\github檔案\\text\\20231026\\1026.ipynb 儲存格 2\u001b[0m line \u001b[0;36m9\n\u001b[0;32m      <a href='vscode-notebook-cell:/c%3A/Users/User/Desktop/%E6%95%99%E5%AD%B8%E8%B3%87%E6%96%99/github%E6%AA%94%E6%A1%88/text/20231026/1026.ipynb#W1sZmlsZQ%3D%3D?line=6'>7</a>\u001b[0m     \u001b[39mprint\u001b[39m(\u001b[39m\"\u001b[39m\u001b[39m下載成功\u001b[39m\u001b[39m\"\u001b[39m)\n\u001b[0;32m      <a href='vscode-notebook-cell:/c%3A/Users/User/Desktop/%E6%95%99%E5%AD%B8%E8%B3%87%E6%96%99/github%E6%AA%94%E6%A1%88/text/20231026/1026.ipynb#W1sZmlsZQ%3D%3D?line=7'>8</a>\u001b[0m \u001b[39melse\u001b[39;00m:\n\u001b[1;32m----> <a href='vscode-notebook-cell:/c%3A/Users/User/Desktop/%E6%95%99%E5%AD%B8%E8%B3%87%E6%96%99/github%E6%AA%94%E6%A1%88/text/20231026/1026.ipynb#W1sZmlsZQ%3D%3D?line=8'>9</a>\u001b[0m     \u001b[39mraise\u001b[39;00m \u001b[39mException\u001b[39;00m(\u001b[39m\"\u001b[39m\u001b[39m下載失敗\u001b[39m\u001b[39m\"\u001b[39m)\n",
      "\u001b[1;31mException\u001b[0m: 下載失敗"
     ]
    }
   ],
   "source": [
    "import requests\n",
    "'''下載youbike資料'''\n",
    "def download_youbike_data():\n",
    "    youbike_url = 'https://tcgbusfs.blob.core.windows.net/dotapp/youbike/v2/youbike_immediate.json'\n",
    "    response = requests.get(youbike_url)\n",
    "    if requests.status_codes == 200:\n",
    "        print(\"下載成功\")\n",
    "    else:\n",
    "        raise Exception(\"下載失敗\")\n",
    "download_youbike_data()\n",
    "\n"
   ]
  }
 ],
 "metadata": {
  "kernelspec": {
   "display_name": ".venv",
   "language": "python",
   "name": "python3"
  },
  "language_info": {
   "codemirror_mode": {
    "name": "ipython",
    "version": 3
   },
   "file_extension": ".py",
   "mimetype": "text/x-python",
   "name": "python",
   "nbconvert_exporter": "python",
   "pygments_lexer": "ipython3",
   "version": "3.10.8"
  }
 },
 "nbformat": 4,
 "nbformat_minor": 2
}
